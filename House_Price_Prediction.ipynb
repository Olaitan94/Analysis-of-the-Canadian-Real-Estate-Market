{
 "cells": [
  {
   "cell_type": "markdown",
   "id": "1d79cdc6",
   "metadata": {},
   "source": [
    "# House Price Prediction Model"
   ]
  },
  {
   "cell_type": "markdown",
   "id": "41a26043",
   "metadata": {},
   "source": [
    "In the first part of this project, I analysed the data for houses sold in the Prairies & West Coast Regions of Canada. \n",
    "\n",
    "Then I used the analysis to answer questions about how the increase in mortgage rates has affected house price and demand."
   ]
  },
  {
   "cell_type": "markdown",
   "id": "df7ae13f",
   "metadata": {},
   "source": [
    "Now, I will use this data to train a model to predict the sale price of houses based on different features "
   ]
  },
  {
   "cell_type": "code",
   "execution_count": 124,
   "id": "c414e2b5",
   "metadata": {},
   "outputs": [],
   "source": [
    "import pandas as pd\n",
    "import datetime\n",
    "from matplotlib import dates, pyplot as plt\n",
    "import matplotlib\n",
    "import seaborn as sns\n",
    "import numpy as np\n",
    "import sklearn\n",
    "from sklearn.linear_model import LinearRegression, Ridge, Lasso\n",
    "from sklearn.model_selection import train_test_split\n",
    "from sklearn.metrics import r2_score, mean_squared_error\n",
    "from sklearn.preprocessing import StandardScaler\n",
    "\n",
    "from sklearn.model_selection import cross_validate"
   ]
  },
  {
   "cell_type": "code",
   "execution_count": 125,
   "id": "79a9de9a",
   "metadata": {},
   "outputs": [
    {
     "data": {
      "text/html": [
       "<div>\n",
       "<style scoped>\n",
       "    .dataframe tbody tr th:only-of-type {\n",
       "        vertical-align: middle;\n",
       "    }\n",
       "\n",
       "    .dataframe tbody tr th {\n",
       "        vertical-align: top;\n",
       "    }\n",
       "\n",
       "    .dataframe thead th {\n",
       "        text-align: right;\n",
       "    }\n",
       "</style>\n",
       "<table border=\"1\" class=\"dataframe\">\n",
       "  <thead>\n",
       "    <tr style=\"text-align: right;\">\n",
       "      <th></th>\n",
       "      <th>id</th>\n",
       "      <th>slug</th>\n",
       "      <th>assessmentClass</th>\n",
       "      <th>zoning</th>\n",
       "      <th>accountNumber</th>\n",
       "      <th>creaListing</th>\n",
       "      <th>bathroomsTotal</th>\n",
       "      <th>bedroomsTotal</th>\n",
       "      <th>livingArea</th>\n",
       "      <th>lotSizeArea</th>\n",
       "      <th>...</th>\n",
       "      <th>city</th>\n",
       "      <th>cityName</th>\n",
       "      <th>neighbourhood</th>\n",
       "      <th>neighbourhoodName</th>\n",
       "      <th>postal</th>\n",
       "      <th>location</th>\n",
       "      <th>closeDate</th>\n",
       "      <th>closePrice</th>\n",
       "      <th>predictedDate</th>\n",
       "      <th>predictedValue</th>\n",
       "    </tr>\n",
       "  </thead>\n",
       "  <tbody>\n",
       "    <tr>\n",
       "      <th>0</th>\n",
       "      <td>ck0eciad49zr70791aj17n7aa</td>\n",
       "      <td>38-discovery-ridge-mount-sw-calgary-ab</td>\n",
       "      <td>Residential</td>\n",
       "      <td>Residential - One Dwelling District (R-1)</td>\n",
       "      <td>200126993.0</td>\n",
       "      <td>NaN</td>\n",
       "      <td>3.1</td>\n",
       "      <td>8.0</td>\n",
       "      <td>2718.0</td>\n",
       "      <td>629.970271</td>\n",
       "      <td>...</td>\n",
       "      <td>ck05d79rf1v0w0791peva9z42</td>\n",
       "      <td>Calgary</td>\n",
       "      <td>ck30mnii0028k070615job5pz</td>\n",
       "      <td>Discovery Ridge</td>\n",
       "      <td>T3H5G3</td>\n",
       "      <td>{'lat': 51.0184791, 'lon': -114.2153508}</td>\n",
       "      <td>2022-11-15T00:00:00.000Z</td>\n",
       "      <td>913900</td>\n",
       "      <td>2023-01-16T00:00:00.000Z</td>\n",
       "      <td>939000.0</td>\n",
       "    </tr>\n",
       "    <tr>\n",
       "      <th>1</th>\n",
       "      <td>ck0ej8oduk2yg0791jmtltcqo</td>\n",
       "      <td>72-cityside-manor-ne-calgary-ab</td>\n",
       "      <td>Residential</td>\n",
       "      <td>Direct Control District, (DC)</td>\n",
       "      <td>202487617.0</td>\n",
       "      <td>NaN</td>\n",
       "      <td>2.1</td>\n",
       "      <td>3.0</td>\n",
       "      <td>1364.0</td>\n",
       "      <td>150.966184</td>\n",
       "      <td>...</td>\n",
       "      <td>ck05d79rf1v0w0791peva9z42</td>\n",
       "      <td>Calgary</td>\n",
       "      <td>ck30mnjn602pq0706uawjh453</td>\n",
       "      <td>Cityscape</td>\n",
       "      <td>T3N1H7</td>\n",
       "      <td>{'lat': 51.146239, 'lon': -113.965384}</td>\n",
       "      <td>2022-10-27T00:00:00.000Z</td>\n",
       "      <td>450000</td>\n",
       "      <td>2023-01-16T00:00:00.000Z</td>\n",
       "      <td>480600.0</td>\n",
       "    </tr>\n",
       "    <tr>\n",
       "      <th>2</th>\n",
       "      <td>599258d80e39c7eaa4732691</td>\n",
       "      <td>7117-21-avenue-sw-edmonton-ab</td>\n",
       "      <td>Residential</td>\n",
       "      <td>RF4</td>\n",
       "      <td>10123584.0</td>\n",
       "      <td>NaN</td>\n",
       "      <td>4.0</td>\n",
       "      <td>3.0</td>\n",
       "      <td>1114.0</td>\n",
       "      <td>267.000000</td>\n",
       "      <td>...</td>\n",
       "      <td>cjykgio0t000s0705d4j9nd8h</td>\n",
       "      <td>Edmonton</td>\n",
       "      <td>ck30mngnb01je07062o5kh63r</td>\n",
       "      <td>Summerside</td>\n",
       "      <td>T6X0L5</td>\n",
       "      <td>{'lat': 53.4140358, 'lon': -113.4517593}</td>\n",
       "      <td>2022-12-14T00:00:00.000Z</td>\n",
       "      <td>395000</td>\n",
       "      <td>2023-01-16T00:00:00.000Z</td>\n",
       "      <td>404800.0</td>\n",
       "    </tr>\n",
       "    <tr>\n",
       "      <th>3</th>\n",
       "      <td>ckcy3dtwrllqg0718yqb1d3sf</td>\n",
       "      <td>313-10157-university-dr-surrey-bc</td>\n",
       "      <td>Condo</td>\n",
       "      <td>RM-70</td>\n",
       "      <td>NaN</td>\n",
       "      <td>NaN</td>\n",
       "      <td>NaN</td>\n",
       "      <td>NaN</td>\n",
       "      <td>NaN</td>\n",
       "      <td>NaN</td>\n",
       "      <td>...</td>\n",
       "      <td>ckcdtw9cf00800870kgxeg4bj</td>\n",
       "      <td>Surrey</td>\n",
       "      <td>ckcqt6fnz04r20770zn5oc7vi</td>\n",
       "      <td>Whalley</td>\n",
       "      <td>V3T5L7</td>\n",
       "      <td>{'lat': 49.18718447, 'lon': -122.8518087}</td>\n",
       "      <td>2022-09-26T00:00:00.000Z</td>\n",
       "      <td>336688</td>\n",
       "      <td>2023-01-16T00:00:00.000Z</td>\n",
       "      <td>345700.0</td>\n",
       "    </tr>\n",
       "  </tbody>\n",
       "</table>\n",
       "<p>4 rows × 30 columns</p>\n",
       "</div>"
      ],
      "text/plain": [
       "                          id                                    slug  \\\n",
       "0  ck0eciad49zr70791aj17n7aa  38-discovery-ridge-mount-sw-calgary-ab   \n",
       "1  ck0ej8oduk2yg0791jmtltcqo         72-cityside-manor-ne-calgary-ab   \n",
       "2   599258d80e39c7eaa4732691           7117-21-avenue-sw-edmonton-ab   \n",
       "3  ckcy3dtwrllqg0718yqb1d3sf       313-10157-university-dr-surrey-bc   \n",
       "\n",
       "  assessmentClass                                     zoning  accountNumber  \\\n",
       "0     Residential  Residential - One Dwelling District (R-1)    200126993.0   \n",
       "1     Residential              Direct Control District, (DC)    202487617.0   \n",
       "2     Residential                                        RF4     10123584.0   \n",
       "3           Condo                                      RM-70            NaN   \n",
       "\n",
       "  creaListing  bathroomsTotal  bedroomsTotal  livingArea  lotSizeArea  ...  \\\n",
       "0         NaN             3.1            8.0      2718.0   629.970271  ...   \n",
       "1         NaN             2.1            3.0      1364.0   150.966184  ...   \n",
       "2         NaN             4.0            3.0      1114.0   267.000000  ...   \n",
       "3         NaN             NaN            NaN         NaN          NaN  ...   \n",
       "\n",
       "                        city  cityName              neighbourhood  \\\n",
       "0  ck05d79rf1v0w0791peva9z42   Calgary  ck30mnii0028k070615job5pz   \n",
       "1  ck05d79rf1v0w0791peva9z42   Calgary  ck30mnjn602pq0706uawjh453   \n",
       "2  cjykgio0t000s0705d4j9nd8h  Edmonton  ck30mngnb01je07062o5kh63r   \n",
       "3  ckcdtw9cf00800870kgxeg4bj    Surrey  ckcqt6fnz04r20770zn5oc7vi   \n",
       "\n",
       "   neighbourhoodName  postal                                   location  \\\n",
       "0    Discovery Ridge  T3H5G3   {'lat': 51.0184791, 'lon': -114.2153508}   \n",
       "1          Cityscape  T3N1H7     {'lat': 51.146239, 'lon': -113.965384}   \n",
       "2         Summerside  T6X0L5   {'lat': 53.4140358, 'lon': -113.4517593}   \n",
       "3            Whalley  V3T5L7  {'lat': 49.18718447, 'lon': -122.8518087}   \n",
       "\n",
       "                  closeDate  closePrice             predictedDate  \\\n",
       "0  2022-11-15T00:00:00.000Z      913900  2023-01-16T00:00:00.000Z   \n",
       "1  2022-10-27T00:00:00.000Z      450000  2023-01-16T00:00:00.000Z   \n",
       "2  2022-12-14T00:00:00.000Z      395000  2023-01-16T00:00:00.000Z   \n",
       "3  2022-09-26T00:00:00.000Z      336688  2023-01-16T00:00:00.000Z   \n",
       "\n",
       "  predictedValue  \n",
       "0       939000.0  \n",
       "1       480600.0  \n",
       "2       404800.0  \n",
       "3       345700.0  \n",
       "\n",
       "[4 rows x 30 columns]"
      ]
     },
     "execution_count": 125,
     "metadata": {},
     "output_type": "execute_result"
    }
   ],
   "source": [
    "#Get the house price data\n",
    "house_data = pd.read_csv('canada_house_prices.csv').iloc[:,2:]\n",
    "house_data.head(4)"
   ]
  },
  {
   "cell_type": "code",
   "execution_count": 3,
   "id": "8be2757b",
   "metadata": {},
   "outputs": [
    {
     "name": "stdout",
     "output_type": "stream",
     "text": [
      "<class 'pandas.core.frame.DataFrame'>\n",
      "RangeIndex: 22432 entries, 0 to 22431\n",
      "Data columns (total 30 columns):\n",
      " #   Column             Non-Null Count  Dtype  \n",
      "---  ------             --------------  -----  \n",
      " 0   id                 22432 non-null  object \n",
      " 1   slug               22432 non-null  object \n",
      " 2   assessmentClass    22432 non-null  object \n",
      " 3   zoning             20049 non-null  object \n",
      " 4   accountNumber      18057 non-null  float64\n",
      " 5   creaListing        127 non-null    object \n",
      " 6   bathroomsTotal     19417 non-null  float64\n",
      " 7   bedroomsTotal      19388 non-null  float64\n",
      " 8   livingArea         19911 non-null  float64\n",
      " 9   lotSizeArea        18504 non-null  float64\n",
      " 10  yearBuiltActual    21841 non-null  float64\n",
      " 11  show               22432 non-null  bool   \n",
      " 12  fireplace          1752 non-null   object \n",
      " 13  garageSpaces       9552 non-null   float64\n",
      " 14  houseStyle         2525 non-null   object \n",
      " 15  livingAreaUnits    615 non-null    object \n",
      " 16  basement           2609 non-null   object \n",
      " 17  building           0 non-null      float64\n",
      " 18  unparsedAddress    22432 non-null  object \n",
      " 19  province           22432 non-null  object \n",
      " 20  city               22432 non-null  object \n",
      " 21  cityName           22432 non-null  object \n",
      " 22  neighbourhood      22364 non-null  object \n",
      " 23  neighbourhoodName  22364 non-null  object \n",
      " 24  postal             22220 non-null  object \n",
      " 25  location           22419 non-null  object \n",
      " 26  closeDate          22432 non-null  object \n",
      " 27  closePrice         22432 non-null  int64  \n",
      " 28  predictedDate      22044 non-null  object \n",
      " 29  predictedValue     22044 non-null  float64\n",
      "dtypes: bool(1), float64(9), int64(1), object(19)\n",
      "memory usage: 5.0+ MB\n"
     ]
    }
   ],
   "source": [
    "house_data.info()"
   ]
  },
  {
   "cell_type": "markdown",
   "id": "f4341cf6",
   "metadata": {},
   "source": [
    "I can see some columns have null values. I'll create a table to see the proportion of null values in each columns "
   ]
  },
  {
   "cell_type": "code",
   "execution_count": 4,
   "id": "f31d730f",
   "metadata": {},
   "outputs": [
    {
     "data": {
      "text/plain": [
       "building             1.000000\n",
       "creaListing          0.994338\n",
       "livingAreaUnits      0.972584\n",
       "fireplace            0.921897\n",
       "houseStyle           0.887438\n",
       "basement             0.883693\n",
       "garageSpaces         0.574180\n",
       "accountNumber        0.195034\n",
       "lotSizeArea          0.175107\n",
       "bedroomsTotal        0.135699\n",
       "bathroomsTotal       0.134406\n",
       "livingArea           0.112384\n",
       "zoning               0.106232\n",
       "yearBuiltActual      0.026346\n",
       "predictedDate        0.017297\n",
       "predictedValue       0.017297\n",
       "postal               0.009451\n",
       "neighbourhood        0.003031\n",
       "neighbourhoodName    0.003031\n",
       "location             0.000580\n",
       "slug                 0.000000\n",
       "show                 0.000000\n",
       "unparsedAddress      0.000000\n",
       "province             0.000000\n",
       "city                 0.000000\n",
       "cityName             0.000000\n",
       "closeDate            0.000000\n",
       "closePrice           0.000000\n",
       "assessmentClass      0.000000\n",
       "id                   0.000000\n",
       "dtype: float64"
      ]
     },
     "execution_count": 4,
     "metadata": {},
     "output_type": "execute_result"
    }
   ],
   "source": [
    "(house_data.isnull().sum()/22432).sort_values(ascending=False)"
   ]
  },
  {
   "cell_type": "markdown",
   "id": "0088c732",
   "metadata": {},
   "source": [
    "- Columns like 'closeDate', 'closePrice', 'cityName' etc have no null values\n",
    "- The 'building' column has only null values. I will have to remove this column as it will not be useful for me at all\n",
    "- Other columns like LivingAreaUnits, houseStyle etc have over 50% as null values. I would have to decide whther to remove or impute the null values \n"
   ]
  },
  {
   "cell_type": "markdown",
   "id": "e41c7692",
   "metadata": {},
   "source": [
    "Lets remove all columns that have over 50% null values "
   ]
  },
  {
   "cell_type": "code",
   "execution_count": 5,
   "id": "25ceb97c",
   "metadata": {},
   "outputs": [],
   "source": [
    "null_columns = ['creaListing', 'fireplace', 'garageSpaces', 'houseStyle', 'livingAreaUnits', 'basement', 'building']\n",
    "house_1 = house_data.drop(labels=null_columns, axis = 1 )"
   ]
  },
  {
   "cell_type": "markdown",
   "id": "4355e3f6",
   "metadata": {},
   "source": [
    "Now Let's check the number of unique values in each column."
   ]
  },
  {
   "cell_type": "code",
   "execution_count": 6,
   "id": "0b140387",
   "metadata": {},
   "outputs": [
    {
     "data": {
      "text/plain": [
       "id                   22432\n",
       "slug                 22432\n",
       "unparsedAddress      22432\n",
       "location             20164\n",
       "accountNumber        18056\n",
       "postal               15914\n",
       "predictedValue        9252\n",
       "closePrice            7365\n",
       "lotSizeArea           6765\n",
       "livingArea            4028\n",
       "neighbourhood          993\n",
       "neighbourhoodName      947\n",
       "zoning                 388\n",
       "yearBuiltActual        132\n",
       "closeDate              117\n",
       "bathroomsTotal          32\n",
       "bedroomsTotal           12\n",
       "cityName                 8\n",
       "city                     8\n",
       "assessmentClass          6\n",
       "province                 4\n",
       "predictedDate            4\n",
       "show                     2\n",
       "dtype: int64"
      ]
     },
     "execution_count": 6,
     "metadata": {},
     "output_type": "execute_result"
    }
   ],
   "source": [
    "house_1.nunique().sort_values(ascending=False)"
   ]
  },
  {
   "cell_type": "markdown",
   "id": "90b0f89b",
   "metadata": {},
   "source": [
    "Some columns have the same no of unique values as the rows, like the id & slug. Let's check out these columns "
   ]
  },
  {
   "cell_type": "code",
   "execution_count": 7,
   "id": "3fada88a",
   "metadata": {},
   "outputs": [
    {
     "data": {
      "text/html": [
       "<div>\n",
       "<style scoped>\n",
       "    .dataframe tbody tr th:only-of-type {\n",
       "        vertical-align: middle;\n",
       "    }\n",
       "\n",
       "    .dataframe tbody tr th {\n",
       "        vertical-align: top;\n",
       "    }\n",
       "\n",
       "    .dataframe thead th {\n",
       "        text-align: right;\n",
       "    }\n",
       "</style>\n",
       "<table border=\"1\" class=\"dataframe\">\n",
       "  <thead>\n",
       "    <tr style=\"text-align: right;\">\n",
       "      <th></th>\n",
       "      <th>id</th>\n",
       "      <th>slug</th>\n",
       "      <th>unparsedAddress</th>\n",
       "      <th>accountNumber</th>\n",
       "      <th>location</th>\n",
       "    </tr>\n",
       "  </thead>\n",
       "  <tbody>\n",
       "    <tr>\n",
       "      <th>0</th>\n",
       "      <td>ck0eciad49zr70791aj17n7aa</td>\n",
       "      <td>38-discovery-ridge-mount-sw-calgary-ab</td>\n",
       "      <td>38 DISCOVERY RIDGE MOUNT SW</td>\n",
       "      <td>200126993.0</td>\n",
       "      <td>{'lat': 51.0184791, 'lon': -114.2153508}</td>\n",
       "    </tr>\n",
       "    <tr>\n",
       "      <th>1</th>\n",
       "      <td>ck0ej8oduk2yg0791jmtltcqo</td>\n",
       "      <td>72-cityside-manor-ne-calgary-ab</td>\n",
       "      <td>72 CITYSIDE MANOR NE</td>\n",
       "      <td>202487617.0</td>\n",
       "      <td>{'lat': 51.146239, 'lon': -113.965384}</td>\n",
       "    </tr>\n",
       "    <tr>\n",
       "      <th>2</th>\n",
       "      <td>599258d80e39c7eaa4732691</td>\n",
       "      <td>7117-21-avenue-sw-edmonton-ab</td>\n",
       "      <td>7117 21 AVENUE SW</td>\n",
       "      <td>10123584.0</td>\n",
       "      <td>{'lat': 53.4140358, 'lon': -113.4517593}</td>\n",
       "    </tr>\n",
       "    <tr>\n",
       "      <th>3</th>\n",
       "      <td>ckcy3dtwrllqg0718yqb1d3sf</td>\n",
       "      <td>313-10157-university-dr-surrey-bc</td>\n",
       "      <td>313 10157 University Dr</td>\n",
       "      <td>NaN</td>\n",
       "      <td>{'lat': 49.18718447, 'lon': -122.8518087}</td>\n",
       "    </tr>\n",
       "    <tr>\n",
       "      <th>4</th>\n",
       "      <td>ck0efnuc2tcts0791v8rm2lni</td>\n",
       "      <td>7735-huntridge-crescent-ne-calgary-ab</td>\n",
       "      <td>7735 HUNTRIDGE CRESCENT NE</td>\n",
       "      <td>10002509.0</td>\n",
       "      <td>{'lat': 51.121853, 'lon': -114.0706501}</td>\n",
       "    </tr>\n",
       "    <tr>\n",
       "      <th>5</th>\n",
       "      <td>599258dd0e39c7eaa4752e95</td>\n",
       "      <td>2431-casselman-crescent-sw-edmonton-ab</td>\n",
       "      <td>2431 CASSELMAN CRESCENT SW</td>\n",
       "      <td>10200084.0</td>\n",
       "      <td>{'lat': 53.4039116, 'lon': -113.5292053}</td>\n",
       "    </tr>\n",
       "    <tr>\n",
       "      <th>6</th>\n",
       "      <td>599258d90e39c7eaa473ab7c</td>\n",
       "      <td>4263-46-street-nw-edmonton-ab</td>\n",
       "      <td>4263 46 STREET NW</td>\n",
       "      <td>3714524.0</td>\n",
       "      <td>{'lat': 53.4792175, 'lon': -113.4106216}</td>\n",
       "    </tr>\n",
       "    <tr>\n",
       "      <th>7</th>\n",
       "      <td>ck0eesig5e95a0791ynayrgov</td>\n",
       "      <td>2628-38-street-se-calgary-ab</td>\n",
       "      <td>2628 38 STREET SE</td>\n",
       "      <td>75128900.0</td>\n",
       "      <td>{'lat': 51.0308799, 'lon': -113.9784956}</td>\n",
       "    </tr>\n",
       "    <tr>\n",
       "      <th>8</th>\n",
       "      <td>ckd0gv5d063fn071805e0ek1r</td>\n",
       "      <td>402-1353-w-70th-ave-vancouver-bc</td>\n",
       "      <td>402 1353 W 70TH AVE</td>\n",
       "      <td>NaN</td>\n",
       "      <td>{'lat': 49.2087894, 'lon': -123.1362926}</td>\n",
       "    </tr>\n",
       "    <tr>\n",
       "      <th>9</th>\n",
       "      <td>ck0ecmotpc4tp0791ylbbpj53</td>\n",
       "      <td>7079-christie-briar-manor-sw-calgary-ab</td>\n",
       "      <td>7079 CHRISTIE BRIAR MANOR SW</td>\n",
       "      <td>63181408.0</td>\n",
       "      <td>{'lat': 51.0387122, 'lon': -114.1832524}</td>\n",
       "    </tr>\n",
       "  </tbody>\n",
       "</table>\n",
       "</div>"
      ],
      "text/plain": [
       "                          id                                     slug  \\\n",
       "0  ck0eciad49zr70791aj17n7aa   38-discovery-ridge-mount-sw-calgary-ab   \n",
       "1  ck0ej8oduk2yg0791jmtltcqo          72-cityside-manor-ne-calgary-ab   \n",
       "2   599258d80e39c7eaa4732691            7117-21-avenue-sw-edmonton-ab   \n",
       "3  ckcy3dtwrllqg0718yqb1d3sf        313-10157-university-dr-surrey-bc   \n",
       "4  ck0efnuc2tcts0791v8rm2lni    7735-huntridge-crescent-ne-calgary-ab   \n",
       "5   599258dd0e39c7eaa4752e95   2431-casselman-crescent-sw-edmonton-ab   \n",
       "6   599258d90e39c7eaa473ab7c            4263-46-street-nw-edmonton-ab   \n",
       "7  ck0eesig5e95a0791ynayrgov             2628-38-street-se-calgary-ab   \n",
       "8  ckd0gv5d063fn071805e0ek1r         402-1353-w-70th-ave-vancouver-bc   \n",
       "9  ck0ecmotpc4tp0791ylbbpj53  7079-christie-briar-manor-sw-calgary-ab   \n",
       "\n",
       "                unparsedAddress  accountNumber  \\\n",
       "0   38 DISCOVERY RIDGE MOUNT SW    200126993.0   \n",
       "1          72 CITYSIDE MANOR NE    202487617.0   \n",
       "2             7117 21 AVENUE SW     10123584.0   \n",
       "3       313 10157 University Dr            NaN   \n",
       "4    7735 HUNTRIDGE CRESCENT NE     10002509.0   \n",
       "5    2431 CASSELMAN CRESCENT SW     10200084.0   \n",
       "6             4263 46 STREET NW      3714524.0   \n",
       "7             2628 38 STREET SE     75128900.0   \n",
       "8           402 1353 W 70TH AVE            NaN   \n",
       "9  7079 CHRISTIE BRIAR MANOR SW     63181408.0   \n",
       "\n",
       "                                    location  \n",
       "0   {'lat': 51.0184791, 'lon': -114.2153508}  \n",
       "1     {'lat': 51.146239, 'lon': -113.965384}  \n",
       "2   {'lat': 53.4140358, 'lon': -113.4517593}  \n",
       "3  {'lat': 49.18718447, 'lon': -122.8518087}  \n",
       "4    {'lat': 51.121853, 'lon': -114.0706501}  \n",
       "5   {'lat': 53.4039116, 'lon': -113.5292053}  \n",
       "6   {'lat': 53.4792175, 'lon': -113.4106216}  \n",
       "7   {'lat': 51.0308799, 'lon': -113.9784956}  \n",
       "8   {'lat': 49.2087894, 'lon': -123.1362926}  \n",
       "9   {'lat': 51.0387122, 'lon': -114.1832524}  "
      ]
     },
     "execution_count": 7,
     "metadata": {},
     "output_type": "execute_result"
    }
   ],
   "source": [
    "house_1[['id','slug','unparsedAddress','accountNumber','location']].head(10)"
   ]
  },
  {
   "cell_type": "markdown",
   "id": "83c2087a",
   "metadata": {},
   "source": [
    "The values in all these columns are unique to the particular house and will not  add any value to the model. So I'll remove them.\n",
    "I'll also remove the predictedValue,predicted Date,closeDate"
   ]
  },
  {
   "cell_type": "code",
   "execution_count": 8,
   "id": "b36c6be1",
   "metadata": {},
   "outputs": [],
   "source": [
    "house_2 = house_1.drop(labels = ['id','slug','unparsedAddress','show','accountNumber','location', 'predictedDate','predictedValue','closeDate'], axis =1)"
   ]
  },
  {
   "cell_type": "code",
   "execution_count": 9,
   "id": "96d46581",
   "metadata": {},
   "outputs": [
    {
     "name": "stdout",
     "output_type": "stream",
     "text": [
      "<class 'pandas.core.frame.DataFrame'>\n",
      "RangeIndex: 22432 entries, 0 to 22431\n",
      "Data columns (total 14 columns):\n",
      " #   Column             Non-Null Count  Dtype  \n",
      "---  ------             --------------  -----  \n",
      " 0   assessmentClass    22432 non-null  object \n",
      " 1   zoning             20049 non-null  object \n",
      " 2   bathroomsTotal     19417 non-null  float64\n",
      " 3   bedroomsTotal      19388 non-null  float64\n",
      " 4   livingArea         19911 non-null  float64\n",
      " 5   lotSizeArea        18504 non-null  float64\n",
      " 6   yearBuiltActual    21841 non-null  float64\n",
      " 7   province           22432 non-null  object \n",
      " 8   city               22432 non-null  object \n",
      " 9   cityName           22432 non-null  object \n",
      " 10  neighbourhood      22364 non-null  object \n",
      " 11  neighbourhoodName  22364 non-null  object \n",
      " 12  postal             22220 non-null  object \n",
      " 13  closePrice         22432 non-null  int64  \n",
      "dtypes: float64(5), int64(1), object(8)\n",
      "memory usage: 2.4+ MB\n"
     ]
    }
   ],
   "source": [
    "house_2.info()"
   ]
  },
  {
   "cell_type": "markdown",
   "id": "09deb2fb",
   "metadata": {},
   "source": [
    "Another column that I have to work on is the yearbuilt column.\n",
    "\n",
    "This column has the year that the house was built, It would be better to transform this column into \"the age of the house\".\n",
    "\n",
    "So, I will change the value in this column to the age of the house by substracting the year built from the current year."
   ]
  },
  {
   "cell_type": "code",
   "execution_count": 10,
   "id": "e5dd6cc6",
   "metadata": {},
   "outputs": [],
   "source": [
    "from datetime import date\n",
    "\n",
    "def get_age(year):\n",
    "    \n",
    "    \"\"\"\n",
    "    Inputs:\n",
    "    year_built:the year the house was built \n",
    "    output: the age of the house (i.e the no of years since the house was built)\n",
    "    \"\"\"\n",
    "    \n",
    "    current_year = date.today().year\n",
    "    age = current_year - year\n",
    "    \n",
    "    return age"
   ]
  },
  {
   "cell_type": "code",
   "execution_count": 11,
   "id": "1f27bb50",
   "metadata": {},
   "outputs": [
    {
     "data": {
      "text/plain": [
       "0        2002.0\n",
       "1        2019.0\n",
       "2        2009.0\n",
       "3        1984.0\n",
       "4        1969.0\n",
       "          ...  \n",
       "22427    2011.0\n",
       "22428    1971.0\n",
       "22429    1910.0\n",
       "22430    1982.0\n",
       "22431    1992.0\n",
       "Name: yearBuiltActual, Length: 22432, dtype: float64"
      ]
     },
     "execution_count": 11,
     "metadata": {},
     "output_type": "execute_result"
    }
   ],
   "source": [
    "house_2['yearBuiltActual']"
   ]
  },
  {
   "cell_type": "code",
   "execution_count": 12,
   "id": "c09b567d",
   "metadata": {},
   "outputs": [],
   "source": [
    "house_2['yearBuiltActual'] = house_2['yearBuiltActual'].apply(func=get_age)"
   ]
  },
  {
   "cell_type": "code",
   "execution_count": 13,
   "id": "3882a1a1",
   "metadata": {},
   "outputs": [
    {
     "data": {
      "text/plain": [
       "0         21.0\n",
       "1          4.0\n",
       "2         14.0\n",
       "3         39.0\n",
       "4         54.0\n",
       "         ...  \n",
       "22427     12.0\n",
       "22428     52.0\n",
       "22429    113.0\n",
       "22430     41.0\n",
       "22431     31.0\n",
       "Name: yearBuiltActual, Length: 22432, dtype: float64"
      ]
     },
     "execution_count": 13,
     "metadata": {},
     "output_type": "execute_result"
    }
   ],
   "source": [
    "house_2['yearBuiltActual']"
   ]
  },
  {
   "cell_type": "markdown",
   "id": "27d2ff55",
   "metadata": {},
   "source": [
    "Now I have both numerical and categorical columns in my dataset, I'll take a look at the numerical columns, their correlation, distribution etc"
   ]
  },
  {
   "cell_type": "code",
   "execution_count": 14,
   "id": "e5fc43e2",
   "metadata": {},
   "outputs": [
    {
     "data": {
      "text/plain": [
       "<AxesSubplot:>"
      ]
     },
     "execution_count": 14,
     "metadata": {},
     "output_type": "execute_result"
    },
    {
     "data": {
      "image/png": "[encoded data removed]",
      "text/plain": [
       "<Figure size 432x288 with 2 Axes>"
      ]
     },
     "metadata": {
      "needs_background": "light"
     },
     "output_type": "display_data"
    }
   ],
   "source": [
    "sns.heatmap(house_2.corr(), annot=True, fmt='.2f')"
   ]
  },
  {
   "cell_type": "markdown",
   "id": "adc15997",
   "metadata": {},
   "source": [
    "- strong correlation between bathroomsTotal,bedroomsTotal & livingArea. These 3 features are kinda related bcos the higher the no of bedrooms, the higher the no of bathrooms and the higher the no of bedrooms & bathrooms, the higher the livingArea.\n",
    "- All the numerical columns have a positive correlation with the closePrice with the bathroomsTotal & bedroomsTotal having the strongest correlation"
   ]
  },
  {
   "cell_type": "markdown",
   "id": "ac3c04eb",
   "metadata": {},
   "source": [
    "Now let's look at the categorical columns"
   ]
  },
  {
   "cell_type": "code",
   "execution_count": 15,
   "id": "1f2c539b",
   "metadata": {},
   "outputs": [],
   "source": [
    "house_cat = house_2.select_dtypes(include=[object])"
   ]
  },
  {
   "cell_type": "code",
   "execution_count": 16,
   "id": "5881ceb1",
   "metadata": {},
   "outputs": [
    {
     "name": "stdout",
     "output_type": "stream",
     "text": [
      "<class 'pandas.core.frame.DataFrame'>\n",
      "RangeIndex: 22432 entries, 0 to 22431\n",
      "Data columns (total 8 columns):\n",
      " #   Column             Non-Null Count  Dtype \n",
      "---  ------             --------------  ----- \n",
      " 0   assessmentClass    22432 non-null  object\n",
      " 1   zoning             20049 non-null  object\n",
      " 2   province           22432 non-null  object\n",
      " 3   city               22432 non-null  object\n",
      " 4   cityName           22432 non-null  object\n",
      " 5   neighbourhood      22364 non-null  object\n",
      " 6   neighbourhoodName  22364 non-null  object\n",
      " 7   postal             22220 non-null  object\n",
      "dtypes: object(8)\n",
      "memory usage: 1.4+ MB\n"
     ]
    }
   ],
   "source": [
    "house_cat.info()"
   ]
  },
  {
   "cell_type": "code",
   "execution_count": 17,
   "id": "4c971aaf",
   "metadata": {},
   "outputs": [
    {
     "data": {
      "text/html": [
       "<div>\n",
       "<style scoped>\n",
       "    .dataframe tbody tr th:only-of-type {\n",
       "        vertical-align: middle;\n",
       "    }\n",
       "\n",
       "    .dataframe tbody tr th {\n",
       "        vertical-align: top;\n",
       "    }\n",
       "\n",
       "    .dataframe thead th {\n",
       "        text-align: right;\n",
       "    }\n",
       "</style>\n",
       "<table border=\"1\" class=\"dataframe\">\n",
       "  <thead>\n",
       "    <tr style=\"text-align: right;\">\n",
       "      <th></th>\n",
       "      <th>assessmentClass</th>\n",
       "      <th>zoning</th>\n",
       "      <th>province</th>\n",
       "      <th>city</th>\n",
       "      <th>cityName</th>\n",
       "      <th>neighbourhood</th>\n",
       "      <th>neighbourhoodName</th>\n",
       "      <th>postal</th>\n",
       "    </tr>\n",
       "  </thead>\n",
       "  <tbody>\n",
       "    <tr>\n",
       "      <th>count</th>\n",
       "      <td>22432</td>\n",
       "      <td>20049</td>\n",
       "      <td>22432</td>\n",
       "      <td>22432</td>\n",
       "      <td>22432</td>\n",
       "      <td>22364</td>\n",
       "      <td>22364</td>\n",
       "      <td>22220</td>\n",
       "    </tr>\n",
       "    <tr>\n",
       "      <th>unique</th>\n",
       "      <td>6</td>\n",
       "      <td>388</td>\n",
       "      <td>4</td>\n",
       "      <td>8</td>\n",
       "      <td>8</td>\n",
       "      <td>993</td>\n",
       "      <td>947</td>\n",
       "      <td>15914</td>\n",
       "    </tr>\n",
       "    <tr>\n",
       "      <th>top</th>\n",
       "      <td>Residential</td>\n",
       "      <td>Residential - Contextual One Dwelling District...</td>\n",
       "      <td>Alberta</td>\n",
       "      <td>ck05d79rf1v0w0791peva9z42</td>\n",
       "      <td>Calgary</td>\n",
       "      <td>ckcqt6fzl04s80770ixifgd4h</td>\n",
       "      <td>Downtown</td>\n",
       "      <td>T3C1G5</td>\n",
       "    </tr>\n",
       "    <tr>\n",
       "      <th>freq</th>\n",
       "      <td>16791</td>\n",
       "      <td>2495</td>\n",
       "      <td>16969</td>\n",
       "      <td>9984</td>\n",
       "      <td>9984</td>\n",
       "      <td>260</td>\n",
       "      <td>331</td>\n",
       "      <td>22</td>\n",
       "    </tr>\n",
       "  </tbody>\n",
       "</table>\n",
       "</div>"
      ],
      "text/plain": [
       "       assessmentClass                                             zoning  \\\n",
       "count            22432                                              20049   \n",
       "unique               6                                                388   \n",
       "top        Residential  Residential - Contextual One Dwelling District...   \n",
       "freq             16791                                               2495   \n",
       "\n",
       "       province                       city cityName  \\\n",
       "count     22432                      22432    22432   \n",
       "unique        4                          8        8   \n",
       "top     Alberta  ck05d79rf1v0w0791peva9z42  Calgary   \n",
       "freq      16969                       9984     9984   \n",
       "\n",
       "                    neighbourhood neighbourhoodName  postal  \n",
       "count                       22364             22364   22220  \n",
       "unique                        993               947   15914  \n",
       "top     ckcqt6fzl04s80770ixifgd4h          Downtown  T3C1G5  \n",
       "freq                          260               331      22  "
      ]
     },
     "execution_count": 17,
     "metadata": {},
     "output_type": "execute_result"
    }
   ],
   "source": [
    "house_cat.describe()"
   ]
  },
  {
   "cell_type": "markdown",
   "id": "cf50c1ed",
   "metadata": {},
   "source": [
    "- city & cityName give the same information. The city column just an id for each city, so we should not have both columns. cityName makes more sense, so I'll remove city \n",
    "- Same goes for the neighbourhood,neighbourhoodName, postal give the same info. I will keep the 'neighbourhoodName' column and remove the remaining two."
   ]
  },
  {
   "cell_type": "code",
   "execution_count": 18,
   "id": "af485868",
   "metadata": {},
   "outputs": [
    {
     "name": "stdout",
     "output_type": "stream",
     "text": [
      "<class 'pandas.core.frame.DataFrame'>\n",
      "RangeIndex: 22432 entries, 0 to 22431\n",
      "Data columns (total 10 columns):\n",
      " #   Column             Non-Null Count  Dtype  \n",
      "---  ------             --------------  -----  \n",
      " 0   assessmentClass    22432 non-null  object \n",
      " 1   bathroomsTotal     19417 non-null  float64\n",
      " 2   bedroomsTotal      19388 non-null  float64\n",
      " 3   livingArea         19911 non-null  float64\n",
      " 4   lotSizeArea        18504 non-null  float64\n",
      " 5   yearBuiltActual    21841 non-null  float64\n",
      " 6   province           22432 non-null  object \n",
      " 7   cityName           22432 non-null  object \n",
      " 8   neighbourhoodName  22364 non-null  object \n",
      " 9   closePrice         22432 non-null  int64  \n",
      "dtypes: float64(5), int64(1), object(4)\n",
      "memory usage: 1.7+ MB\n"
     ]
    }
   ],
   "source": [
    "house_3 = house_2.drop(labels = ['zoning','city','neighbourhood', 'postal'], axis = 1)\n",
    "house_3.info()"
   ]
  },
  {
   "cell_type": "markdown",
   "id": "8466f79b",
   "metadata": {},
   "source": [
    "Now the remaining 8 columns will be used to predict the 9th column, closePrice"
   ]
  },
  {
   "cell_type": "markdown",
   "id": "8cb58339",
   "metadata": {},
   "source": [
    "**Missing Values**"
   ]
  },
  {
   "cell_type": "markdown",
   "id": "39b70821",
   "metadata": {},
   "source": [
    "Some of the columns have missing values in certain rows, I will start by removing these missing values because I dont want to introduce bias into the dataset"
   ]
  },
  {
   "cell_type": "code",
   "execution_count": 129,
   "id": "176572ef",
   "metadata": {},
   "outputs": [
    {
     "name": "stdout",
     "output_type": "stream",
     "text": [
      "<class 'pandas.core.frame.DataFrame'>\n",
      "Int64Index: 18985 entries, 0 to 22431\n",
      "Data columns (total 10 columns):\n",
      " #   Column             Non-Null Count  Dtype  \n",
      "---  ------             --------------  -----  \n",
      " 0   assessmentClass    18985 non-null  object \n",
      " 1   bathroomsTotal     18985 non-null  float64\n",
      " 2   bedroomsTotal      18985 non-null  float64\n",
      " 3   livingArea         18985 non-null  float64\n",
      " 4   lotSizeArea        18985 non-null  float64\n",
      " 5   yearBuiltActual    18985 non-null  float64\n",
      " 6   province           18985 non-null  object \n",
      " 7   cityName           18985 non-null  object \n",
      " 8   neighbourhoodName  18985 non-null  object \n",
      " 9   closePrice         18985 non-null  int64  \n",
      "dtypes: float64(5), int64(1), object(4)\n",
      "memory usage: 1.6+ MB\n"
     ]
    }
   ],
   "source": [
    "house_4 = house_3.dropna(axis=0, how ='any')\n",
    "house_4.info()"
   ]
  },
  {
   "cell_type": "code",
   "execution_count": 20,
   "id": "434ca64a",
   "metadata": {},
   "outputs": [
    {
     "data": {
      "text/plain": [
       "Calgary      9984\n",
       "Edmonton     6985\n",
       "Winnipeg     1467\n",
       "Vancouver    1186\n",
       "Surrey       1037\n",
       "Saskatoon     704\n",
       "Regina        546\n",
       "Burnaby       523\n",
       "Name: cityName, dtype: int64"
      ]
     },
     "execution_count": 20,
     "metadata": {},
     "output_type": "execute_result"
    }
   ],
   "source": [
    "house_3.cityName.value_counts()"
   ]
  },
  {
   "cell_type": "code",
   "execution_count": 21,
   "id": "dae9757a",
   "metadata": {},
   "outputs": [
    {
     "data": {
      "text/plain": [
       "Calgary      8553\n",
       "Edmonton     4054\n",
       "Winnipeg     1260\n",
       "Surrey        825\n",
       "Saskatoon     429\n",
       "Regina        384\n",
       "Vancouver     321\n",
       "Burnaby       132\n",
       "Name: cityName, dtype: int64"
      ]
     },
     "execution_count": 21,
     "metadata": {},
     "output_type": "execute_result"
    }
   ],
   "source": [
    "house_4['cityName'].value_counts()"
   ]
  },
  {
   "cell_type": "markdown",
   "id": "feea4bd6",
   "metadata": {},
   "source": [
    "I have removed almost 30% of the data, which is a big loss, and a lot of data from cities like Burnaby, Vancouver, Regina has been lost.\n",
    "\n",
    "So instead of removing the missing values, I'd try to impute them instead"
   ]
  },
  {
   "cell_type": "markdown",
   "id": "fb25be69",
   "metadata": {},
   "source": [
    "**Imputing Missing Values**"
   ]
  },
  {
   "cell_type": "code",
   "execution_count": 22,
   "id": "a3cfc7b7",
   "metadata": {},
   "outputs": [],
   "source": [
    "#To input the missing values for living area & lotsize Area:\n",
    "  #group by city, then by  the no of bedrooms, for each no of bedroom& city combo, I'll impute the mean as the missing value.\n",
    "    \n",
    "#for each value in column,\n",
    "#if value is null:\n",
    "#check the cityName & bedrooms total, if not null; get the average of the living area and impute the value "
   ]
  },
  {
   "cell_type": "code",
   "execution_count": 24,
   "id": "31ea0fc8",
   "metadata": {},
   "outputs": [
    {
     "name": "stderr",
     "output_type": "stream",
     "text": [
      "C:\\Users\\ASUS\\AppData\\Local\\Temp\\ipykernel_1812\\2183333778.py:9: SettingWithCopyWarning: \n",
      "A value is trying to be set on a copy of a slice from a DataFrame\n",
      "\n",
      "See the caveats in the documentation: https://pandas.pydata.org/pandas-docs/stable/user_guide/indexing.html#returning-a-view-versus-a-copy\n",
      "  house_3['livingArea'][i] = mean_liv_area\n",
      "C:\\Users\\ASUS\\AppData\\Local\\Temp\\ipykernel_1812\\2183333778.py:17: SettingWithCopyWarning: \n",
      "A value is trying to be set on a copy of a slice from a DataFrame\n",
      "\n",
      "See the caveats in the documentation: https://pandas.pydata.org/pandas-docs/stable/user_guide/indexing.html#returning-a-view-versus-a-copy\n",
      "  house_3['livingArea'][i] = mean_liv_area\n"
     ]
    }
   ],
   "source": [
    "#impute the missing living area\n",
    "\n",
    "for i in range(len(house_3)):\n",
    "    if pd.isna(house_3['livingArea'][i]) and (not pd.isna(house_3['bedroomsTotal'][i])):\n",
    "        city_name = house_3['cityName'][i]\n",
    "        bed_no = house_3['bedroomsTotal'][i]\n",
    "        \n",
    "        mean_liv_area = house_3[(house_3['cityName']==city_name) & (house_3['bedroomsTotal']==bed_no)]['livingArea'].mean()\n",
    "        house_3['livingArea'][i] = mean_liv_area\n",
    "\n",
    "for i in range(len(house_3)):\n",
    "    if pd.isna(house_3['livingArea'][i]) and (not pd.isna(house_3['bathroomsTotal'][i])):\n",
    "        city_name = house_3['cityName'][i]\n",
    "        bath_no = house_3['bathroomsTotal'][i]\n",
    "        \n",
    "        mean_liv_area = house_3[(house_3['cityName']==city_name) & (house_3['bathroomsTotal']==bath_no)]['livingArea'].mean()\n",
    "        house_3['livingArea'][i] = mean_liv_area"
   ]
  },
  {
   "cell_type": "code",
   "execution_count": 25,
   "id": "ac6c1b02",
   "metadata": {},
   "outputs": [
    {
     "name": "stderr",
     "output_type": "stream",
     "text": [
      "C:\\Users\\ASUS\\AppData\\Local\\Temp\\ipykernel_1812\\1000872567.py:10: SettingWithCopyWarning: \n",
      "A value is trying to be set on a copy of a slice from a DataFrame\n",
      "\n",
      "See the caveats in the documentation: https://pandas.pydata.org/pandas-docs/stable/user_guide/indexing.html#returning-a-view-versus-a-copy\n",
      "  house_3['lotSizeArea'][i] = mean_lot_area\n",
      "C:\\Users\\ASUS\\AppData\\Local\\Temp\\ipykernel_1812\\1000872567.py:18: SettingWithCopyWarning: \n",
      "A value is trying to be set on a copy of a slice from a DataFrame\n",
      "\n",
      "See the caveats in the documentation: https://pandas.pydata.org/pandas-docs/stable/user_guide/indexing.html#returning-a-view-versus-a-copy\n",
      "  house_3['lotSizeArea'][i] = mean_lot_area\n"
     ]
    }
   ],
   "source": [
    "#Now lets do the same for lotSizeArea\n",
    "\n",
    "\n",
    "for i in range(len(house_3)):\n",
    "    if pd.isna(house_3['lotSizeArea'][i]) and (not pd.isna(house_3['bedroomsTotal'][i])):\n",
    "        city_name = house_3['cityName'][i]\n",
    "        bed_no = house_3['bedroomsTotal'][i]\n",
    "        \n",
    "        mean_lot_area = house_3[(house_3['cityName']==city_name) & (house_3['bedroomsTotal']==bed_no)]['lotSizeArea'].mean()\n",
    "        house_3['lotSizeArea'][i] = mean_lot_area\n",
    "\n",
    "for i in range(len(house_3)):\n",
    "    if pd.isna(house_3['lotSizeArea'][i]) and (not pd.isna(house_3['bathroomsTotal'][i])):\n",
    "        city_name = house_3['cityName'][i]\n",
    "        bath_no = house_3['bathroomsTotal'][i]\n",
    "        \n",
    "        mean_lot_area = house_3[(house_3['cityName']==city_name) & (house_3['bathroomsTotal']==bath_no)]['lotSizeArea'].mean()\n",
    "        house_3['lotSizeArea'][i] = mean_lot_area"
   ]
  },
  {
   "cell_type": "code",
   "execution_count": 26,
   "id": "950b6e49",
   "metadata": {},
   "outputs": [
    {
     "name": "stdout",
     "output_type": "stream",
     "text": [
      "<class 'pandas.core.frame.DataFrame'>\n",
      "RangeIndex: 22432 entries, 0 to 22431\n",
      "Data columns (total 10 columns):\n",
      " #   Column             Non-Null Count  Dtype  \n",
      "---  ------             --------------  -----  \n",
      " 0   assessmentClass    22432 non-null  object \n",
      " 1   bathroomsTotal     19417 non-null  float64\n",
      " 2   bedroomsTotal      19388 non-null  float64\n",
      " 3   livingArea         20008 non-null  float64\n",
      " 4   lotSizeArea        21743 non-null  float64\n",
      " 5   yearBuiltActual    21841 non-null  float64\n",
      " 6   province           22432 non-null  object \n",
      " 7   cityName           22432 non-null  object \n",
      " 8   neighbourhoodName  22364 non-null  object \n",
      " 9   closePrice         22432 non-null  int64  \n",
      "dtypes: float64(5), int64(1), object(4)\n",
      "memory usage: 1.7+ MB\n"
     ]
    }
   ],
   "source": [
    "house_3.info()"
   ]
  },
  {
   "cell_type": "code",
   "execution_count": 130,
   "id": "da19d4b5",
   "metadata": {},
   "outputs": [
    {
     "name": "stdout",
     "output_type": "stream",
     "text": [
      "<class 'pandas.core.frame.DataFrame'>\n",
      "Int64Index: 18985 entries, 0 to 22431\n",
      "Data columns (total 10 columns):\n",
      " #   Column             Non-Null Count  Dtype  \n",
      "---  ------             --------------  -----  \n",
      " 0   assessmentClass    18985 non-null  object \n",
      " 1   bathroomsTotal     18985 non-null  float64\n",
      " 2   bedroomsTotal      18985 non-null  float64\n",
      " 3   livingArea         18985 non-null  float64\n",
      " 4   lotSizeArea        18985 non-null  float64\n",
      " 5   yearBuiltActual    18985 non-null  float64\n",
      " 6   province           18985 non-null  object \n",
      " 7   cityName           18985 non-null  object \n",
      " 8   neighbourhoodName  18985 non-null  object \n",
      " 9   closePrice         18985 non-null  int64  \n",
      "dtypes: float64(5), int64(1), object(4)\n",
      "memory usage: 1.6+ MB\n"
     ]
    }
   ],
   "source": [
    "#Now Lets drop the rows with null values\n",
    "house_5 = house_3.dropna(axis = 0, subset=['livingArea','lotSizeArea', 'neighbourhoodName', 'bathroomsTotal', 'bedroomsTotal', 'yearBuiltActual'])\n",
    "house_5.info()"
   ]
  },
  {
   "cell_type": "markdown",
   "id": "abba9236",
   "metadata": {},
   "source": [
    "**Use only Residential & Condo Properties**"
   ]
  },
  {
   "cell_type": "markdown",
   "id": "04353d4d",
   "metadata": {},
   "source": [
    "There are some rows that have non residential properties.\n",
    "Since I'm only interested in predicting houses, I'll remove this data "
   ]
  },
  {
   "cell_type": "code",
   "execution_count": 28,
   "id": "6da9c722",
   "metadata": {},
   "outputs": [],
   "source": [
    "house_6 = house_5[house_5.assessmentClass.isin(['Residential', 'Condo'])]"
   ]
  },
  {
   "cell_type": "markdown",
   "id": "561f5994",
   "metadata": {},
   "source": [
    "**Shuffle the dataset**"
   ]
  },
  {
   "cell_type": "code",
   "execution_count": 48,
   "id": "1e288976",
   "metadata": {},
   "outputs": [],
   "source": [
    "house_6 = house_6.sample(frac=1, random_state=5)"
   ]
  },
  {
   "cell_type": "markdown",
   "id": "e884a08e",
   "metadata": {},
   "source": [
    "**OneHotEncoding for Categorical Variables**"
   ]
  },
  {
   "cell_type": "markdown",
   "id": "376944aa",
   "metadata": {},
   "source": [
    "Since there are columns with categorical values, I'll have to transform these columns to numerical columns using one-hot encoding"
   ]
  },
  {
   "cell_type": "markdown",
   "id": "b73a91c4",
   "metadata": {},
   "source": [
    "Let's look at the categorical columns again."
   ]
  },
  {
   "cell_type": "code",
   "execution_count": 49,
   "id": "bc56ebca",
   "metadata": {},
   "outputs": [
    {
     "data": {
      "text/html": [
       "<div>\n",
       "<style scoped>\n",
       "    .dataframe tbody tr th:only-of-type {\n",
       "        vertical-align: middle;\n",
       "    }\n",
       "\n",
       "    .dataframe tbody tr th {\n",
       "        vertical-align: top;\n",
       "    }\n",
       "\n",
       "    .dataframe thead th {\n",
       "        text-align: right;\n",
       "    }\n",
       "</style>\n",
       "<table border=\"1\" class=\"dataframe\">\n",
       "  <thead>\n",
       "    <tr style=\"text-align: right;\">\n",
       "      <th></th>\n",
       "      <th>assessmentClass</th>\n",
       "      <th>province</th>\n",
       "      <th>cityName</th>\n",
       "      <th>neighbourhoodName</th>\n",
       "    </tr>\n",
       "  </thead>\n",
       "  <tbody>\n",
       "    <tr>\n",
       "      <th>count</th>\n",
       "      <td>18673</td>\n",
       "      <td>18673</td>\n",
       "      <td>18673</td>\n",
       "      <td>18673</td>\n",
       "    </tr>\n",
       "    <tr>\n",
       "      <th>unique</th>\n",
       "      <td>2</td>\n",
       "      <td>4</td>\n",
       "      <td>8</td>\n",
       "      <td>873</td>\n",
       "    </tr>\n",
       "    <tr>\n",
       "      <th>top</th>\n",
       "      <td>Residential</td>\n",
       "      <td>Alberta</td>\n",
       "      <td>Calgary</td>\n",
       "      <td>Downtown</td>\n",
       "    </tr>\n",
       "    <tr>\n",
       "      <th>freq</th>\n",
       "      <td>14459</td>\n",
       "      <td>13950</td>\n",
       "      <td>8362</td>\n",
       "      <td>299</td>\n",
       "    </tr>\n",
       "  </tbody>\n",
       "</table>\n",
       "</div>"
      ],
      "text/plain": [
       "       assessmentClass province cityName neighbourhoodName\n",
       "count            18673    18673    18673             18673\n",
       "unique               2        4        8               873\n",
       "top        Residential  Alberta  Calgary          Downtown\n",
       "freq             14459    13950     8362               299"
      ]
     },
     "execution_count": 49,
     "metadata": {},
     "output_type": "execute_result"
    }
   ],
   "source": [
    "house_6.select_dtypes(include=[object]).describe()"
   ]
  },
  {
   "cell_type": "markdown",
   "id": "0fe51b56",
   "metadata": {},
   "source": [
    "The first 3 columns have very few values which shouldnt result in so many columns.\n",
    "\n",
    "However, the neighbourhood column has 873 unique features, which will result in 873 columns. "
   ]
  },
  {
   "cell_type": "markdown",
   "id": "0061d44e",
   "metadata": {},
   "source": [
    "Let's split the numerical columns & categorical cols into 2 dif datasets & create columns for each unique values in each categorical column"
   ]
  },
  {
   "cell_type": "code",
   "execution_count": 50,
   "id": "c38b958b",
   "metadata": {},
   "outputs": [
    {
     "data": {
      "text/plain": [
       "0        1324800\n",
       "1         169500\n",
       "2         242000\n",
       "3         414800\n",
       "4         214500\n",
       "          ...   \n",
       "18668     563200\n",
       "18669     249400\n",
       "18670    1413900\n",
       "18671     629700\n",
       "18672     404200\n",
       "Name: closePrice, Length: 18673, dtype: int64"
      ]
     },
     "execution_count": 50,
     "metadata": {},
     "output_type": "execute_result"
    }
   ],
   "source": [
    "df = house_6.select_dtypes(include=[np.float64])\n",
    "cat_cols = house_6.select_dtypes(include=[object])\n",
    "price = house_6['closePrice'].reset_index(drop=True)\n",
    "price"
   ]
  },
  {
   "cell_type": "code",
   "execution_count": 51,
   "id": "cec54f41",
   "metadata": {},
   "outputs": [
    {
     "data": {
      "text/plain": [
       "(18673, 892)"
      ]
     },
     "execution_count": 51,
     "metadata": {},
     "output_type": "execute_result"
    }
   ],
   "source": [
    "cat_columns = cat_cols.columns\n",
    "for col in cat_columns:\n",
    "    df = pd.concat([df, pd.get_dummies(cat_cols[col], dummy_na=False)], axis=1)\n",
    "df.shape"
   ]
  },
  {
   "cell_type": "code",
   "execution_count": 52,
   "id": "955d6af8",
   "metadata": {},
   "outputs": [
    {
     "data": {
      "text/html": [
       "<div>\n",
       "<style scoped>\n",
       "    .dataframe tbody tr th:only-of-type {\n",
       "        vertical-align: middle;\n",
       "    }\n",
       "\n",
       "    .dataframe tbody tr th {\n",
       "        vertical-align: top;\n",
       "    }\n",
       "\n",
       "    .dataframe thead th {\n",
       "        text-align: right;\n",
       "    }\n",
       "</style>\n",
       "<table border=\"1\" class=\"dataframe\">\n",
       "  <thead>\n",
       "    <tr style=\"text-align: right;\">\n",
       "      <th></th>\n",
       "      <th>bathroomsTotal</th>\n",
       "      <th>bedroomsTotal</th>\n",
       "      <th>livingArea</th>\n",
       "      <th>lotSizeArea</th>\n",
       "      <th>yearBuiltActual</th>\n",
       "      <th>Condo</th>\n",
       "      <th>Residential</th>\n",
       "      <th>Alberta</th>\n",
       "      <th>British Columbia</th>\n",
       "      <th>Manitoba</th>\n",
       "      <th>...</th>\n",
       "      <th>Wolseley</th>\n",
       "      <th>Wood Meadows</th>\n",
       "      <th>Woodbine</th>\n",
       "      <th>Woodcroft</th>\n",
       "      <th>Woodhaven</th>\n",
       "      <th>Woodland Grove</th>\n",
       "      <th>Woodlands</th>\n",
       "      <th>Worthington</th>\n",
       "      <th>York</th>\n",
       "      <th>Yorkville</th>\n",
       "    </tr>\n",
       "  </thead>\n",
       "  <tbody>\n",
       "    <tr>\n",
       "      <th>0</th>\n",
       "      <td>3.1</td>\n",
       "      <td>5.0</td>\n",
       "      <td>3141.0</td>\n",
       "      <td>0.000000</td>\n",
       "      <td>18.0</td>\n",
       "      <td>1</td>\n",
       "      <td>0</td>\n",
       "      <td>0</td>\n",
       "      <td>1</td>\n",
       "      <td>0</td>\n",
       "      <td>...</td>\n",
       "      <td>0</td>\n",
       "      <td>0</td>\n",
       "      <td>0</td>\n",
       "      <td>0</td>\n",
       "      <td>0</td>\n",
       "      <td>0</td>\n",
       "      <td>0</td>\n",
       "      <td>0</td>\n",
       "      <td>0</td>\n",
       "      <td>0</td>\n",
       "    </tr>\n",
       "    <tr>\n",
       "      <th>1</th>\n",
       "      <td>2.0</td>\n",
       "      <td>2.0</td>\n",
       "      <td>1074.0</td>\n",
       "      <td>324.287539</td>\n",
       "      <td>19.0</td>\n",
       "      <td>1</td>\n",
       "      <td>0</td>\n",
       "      <td>1</td>\n",
       "      <td>0</td>\n",
       "      <td>0</td>\n",
       "      <td>...</td>\n",
       "      <td>0</td>\n",
       "      <td>0</td>\n",
       "      <td>0</td>\n",
       "      <td>0</td>\n",
       "      <td>0</td>\n",
       "      <td>0</td>\n",
       "      <td>0</td>\n",
       "      <td>0</td>\n",
       "      <td>0</td>\n",
       "      <td>0</td>\n",
       "    </tr>\n",
       "    <tr>\n",
       "      <th>2</th>\n",
       "      <td>2.0</td>\n",
       "      <td>2.0</td>\n",
       "      <td>808.0</td>\n",
       "      <td>2478.200000</td>\n",
       "      <td>8.0</td>\n",
       "      <td>1</td>\n",
       "      <td>0</td>\n",
       "      <td>1</td>\n",
       "      <td>0</td>\n",
       "      <td>0</td>\n",
       "      <td>...</td>\n",
       "      <td>0</td>\n",
       "      <td>0</td>\n",
       "      <td>0</td>\n",
       "      <td>0</td>\n",
       "      <td>0</td>\n",
       "      <td>0</td>\n",
       "      <td>0</td>\n",
       "      <td>0</td>\n",
       "      <td>0</td>\n",
       "      <td>0</td>\n",
       "    </tr>\n",
       "    <tr>\n",
       "      <th>3</th>\n",
       "      <td>2.0</td>\n",
       "      <td>3.0</td>\n",
       "      <td>866.0</td>\n",
       "      <td>1741.917503</td>\n",
       "      <td>22.0</td>\n",
       "      <td>0</td>\n",
       "      <td>1</td>\n",
       "      <td>0</td>\n",
       "      <td>0</td>\n",
       "      <td>1</td>\n",
       "      <td>...</td>\n",
       "      <td>0</td>\n",
       "      <td>0</td>\n",
       "      <td>0</td>\n",
       "      <td>0</td>\n",
       "      <td>0</td>\n",
       "      <td>0</td>\n",
       "      <td>0</td>\n",
       "      <td>0</td>\n",
       "      <td>0</td>\n",
       "      <td>0</td>\n",
       "    </tr>\n",
       "    <tr>\n",
       "      <th>4</th>\n",
       "      <td>2.0</td>\n",
       "      <td>2.0</td>\n",
       "      <td>631.0</td>\n",
       "      <td>0.000000</td>\n",
       "      <td>6.0</td>\n",
       "      <td>1</td>\n",
       "      <td>0</td>\n",
       "      <td>1</td>\n",
       "      <td>0</td>\n",
       "      <td>0</td>\n",
       "      <td>...</td>\n",
       "      <td>0</td>\n",
       "      <td>0</td>\n",
       "      <td>0</td>\n",
       "      <td>0</td>\n",
       "      <td>0</td>\n",
       "      <td>0</td>\n",
       "      <td>0</td>\n",
       "      <td>0</td>\n",
       "      <td>0</td>\n",
       "      <td>0</td>\n",
       "    </tr>\n",
       "  </tbody>\n",
       "</table>\n",
       "<p>5 rows × 892 columns</p>\n",
       "</div>"
      ],
      "text/plain": [
       "   bathroomsTotal  bedroomsTotal  livingArea  lotSizeArea  yearBuiltActual  \\\n",
       "0             3.1            5.0      3141.0     0.000000             18.0   \n",
       "1             2.0            2.0      1074.0   324.287539             19.0   \n",
       "2             2.0            2.0       808.0  2478.200000              8.0   \n",
       "3             2.0            3.0       866.0  1741.917503             22.0   \n",
       "4             2.0            2.0       631.0     0.000000              6.0   \n",
       "\n",
       "   Condo  Residential  Alberta  British Columbia  Manitoba  ...  Wolseley  \\\n",
       "0      1            0        0                 1         0  ...         0   \n",
       "1      1            0        1                 0         0  ...         0   \n",
       "2      1            0        1                 0         0  ...         0   \n",
       "3      0            1        0                 0         1  ...         0   \n",
       "4      1            0        1                 0         0  ...         0   \n",
       "\n",
       "   Wood Meadows  Woodbine  Woodcroft  Woodhaven  Woodland Grove  Woodlands  \\\n",
       "0             0         0          0          0               0          0   \n",
       "1             0         0          0          0               0          0   \n",
       "2             0         0          0          0               0          0   \n",
       "3             0         0          0          0               0          0   \n",
       "4             0         0          0          0               0          0   \n",
       "\n",
       "   Worthington  York  Yorkville  \n",
       "0            0     0          0  \n",
       "1            0     0          0  \n",
       "2            0     0          0  \n",
       "3            0     0          0  \n",
       "4            0     0          0  \n",
       "\n",
       "[5 rows x 892 columns]"
      ]
     },
     "execution_count": 52,
     "metadata": {},
     "output_type": "execute_result"
    }
   ],
   "source": [
    "df.reset_index(inplace=True, drop=True)\n",
    "df.head()"
   ]
  },
  {
   "cell_type": "markdown",
   "id": "b0a8afc8",
   "metadata": {},
   "source": [
    "**Exploring the Target Variable** "
   ]
  },
  {
   "cell_type": "markdown",
   "id": "b1434b9d",
   "metadata": {},
   "source": [
    "Let's check the skew of the price "
   ]
  },
  {
   "cell_type": "code",
   "execution_count": 53,
   "id": "e917b2fd",
   "metadata": {},
   "outputs": [
    {
     "data": {
      "text/plain": [
       "1250     41870000\n",
       "3808     14600000\n",
       "16648     8799700\n",
       "14830     8499300\n",
       "12850     8049300\n",
       "           ...   \n",
       "14486       37000\n",
       "1447        36900\n",
       "3011        36100\n",
       "8775        36100\n",
       "263         35900\n",
       "Name: closePrice, Length: 18673, dtype: int64"
      ]
     },
     "execution_count": 53,
     "metadata": {},
     "output_type": "execute_result"
    }
   ],
   "source": [
    "price.sort_values(ascending=False)"
   ]
  },
  {
   "cell_type": "markdown",
   "id": "a6b3bf1e",
   "metadata": {},
   "source": [
    "Linear Regression makes assumption that there are no outliers and that both independent & target variables follow a normal distribution. \n",
    "\n",
    "Let's check if these assumptions are true for this dataset"
   ]
  },
  {
   "cell_type": "markdown",
   "id": "cb62a653",
   "metadata": {},
   "source": [
    "**Check for Outtliers**"
   ]
  },
  {
   "cell_type": "code",
   "execution_count": 54,
   "id": "c433bc2a",
   "metadata": {},
   "outputs": [
    {
     "data": {
      "image/png": "[encoded data removed]",
      "text/plain": [
       "<Figure size 432x288 with 1 Axes>"
      ]
     },
     "metadata": {
      "needs_background": "light"
     },
     "output_type": "display_data"
    }
   ],
   "source": [
    "ax = price.plot(style='.')\n",
    "\n",
    "ax.get_yaxis().set_major_formatter(\n",
    "    matplotlib.ticker.FuncFormatter(lambda x, p: format(int(x), ',')))"
   ]
  },
  {
   "cell_type": "markdown",
   "id": "74862f16",
   "metadata": {},
   "source": [
    "Looks like there is an outlier. Most of the prices are below 10 million and we have two houses above 10 million\n",
    "\n",
    "Let's check out 2 more houses"
   ]
  },
  {
   "cell_type": "code",
   "execution_count": 55,
   "id": "faa90631",
   "metadata": {},
   "outputs": [
    {
     "data": {
      "text/plain": [
       "1250    41870000\n",
       "3808    14600000\n",
       "Name: closePrice, dtype: int64"
      ]
     },
     "execution_count": 55,
     "metadata": {},
     "output_type": "execute_result"
    }
   ],
   "source": [
    "#get their indices\n",
    "price[price>10000000]"
   ]
  },
  {
   "cell_type": "code",
   "execution_count": 56,
   "id": "2a2d12f2",
   "metadata": {},
   "outputs": [
    {
     "data": {
      "text/html": [
       "<div>\n",
       "<style scoped>\n",
       "    .dataframe tbody tr th:only-of-type {\n",
       "        vertical-align: middle;\n",
       "    }\n",
       "\n",
       "    .dataframe tbody tr th {\n",
       "        vertical-align: top;\n",
       "    }\n",
       "\n",
       "    .dataframe thead th {\n",
       "        text-align: right;\n",
       "    }\n",
       "</style>\n",
       "<table border=\"1\" class=\"dataframe\">\n",
       "  <thead>\n",
       "    <tr style=\"text-align: right;\">\n",
       "      <th></th>\n",
       "      <th>bathroomsTotal</th>\n",
       "      <th>bedroomsTotal</th>\n",
       "      <th>livingArea</th>\n",
       "      <th>lotSizeArea</th>\n",
       "      <th>yearBuiltActual</th>\n",
       "      <th>Condo</th>\n",
       "      <th>Residential</th>\n",
       "      <th>Alberta</th>\n",
       "      <th>British Columbia</th>\n",
       "      <th>Manitoba</th>\n",
       "      <th>Saskatchewan</th>\n",
       "      <th>Burnaby</th>\n",
       "      <th>Calgary</th>\n",
       "      <th>Edmonton</th>\n",
       "      <th>Regina</th>\n",
       "      <th>Saskatoon</th>\n",
       "      <th>Surrey</th>\n",
       "      <th>Vancouver</th>\n",
       "      <th>Winnipeg</th>\n",
       "      <th>01 F</th>\n",
       "    </tr>\n",
       "  </thead>\n",
       "  <tbody>\n",
       "    <tr>\n",
       "      <th>1250</th>\n",
       "      <td>2.1</td>\n",
       "      <td>3.0</td>\n",
       "      <td>1185.0</td>\n",
       "      <td>0.0</td>\n",
       "      <td>1.0</td>\n",
       "      <td>1</td>\n",
       "      <td>0</td>\n",
       "      <td>1</td>\n",
       "      <td>0</td>\n",
       "      <td>0</td>\n",
       "      <td>0</td>\n",
       "      <td>0</td>\n",
       "      <td>1</td>\n",
       "      <td>0</td>\n",
       "      <td>0</td>\n",
       "      <td>0</td>\n",
       "      <td>0</td>\n",
       "      <td>0</td>\n",
       "      <td>0</td>\n",
       "      <td>0</td>\n",
       "    </tr>\n",
       "    <tr>\n",
       "      <th>3808</th>\n",
       "      <td>5.3</td>\n",
       "      <td>6.0</td>\n",
       "      <td>8563.0</td>\n",
       "      <td>4289.7</td>\n",
       "      <td>96.0</td>\n",
       "      <td>0</td>\n",
       "      <td>1</td>\n",
       "      <td>0</td>\n",
       "      <td>1</td>\n",
       "      <td>0</td>\n",
       "      <td>0</td>\n",
       "      <td>0</td>\n",
       "      <td>0</td>\n",
       "      <td>0</td>\n",
       "      <td>0</td>\n",
       "      <td>0</td>\n",
       "      <td>0</td>\n",
       "      <td>1</td>\n",
       "      <td>0</td>\n",
       "      <td>0</td>\n",
       "    </tr>\n",
       "  </tbody>\n",
       "</table>\n",
       "</div>"
      ],
      "text/plain": [
       "      bathroomsTotal  bedroomsTotal  livingArea  lotSizeArea  yearBuiltActual  \\\n",
       "1250             2.1            3.0      1185.0          0.0              1.0   \n",
       "3808             5.3            6.0      8563.0       4289.7             96.0   \n",
       "\n",
       "      Condo  Residential  Alberta  British Columbia  Manitoba  Saskatchewan  \\\n",
       "1250      1            0        1                 0         0             0   \n",
       "3808      0            1        0                 1         0             0   \n",
       "\n",
       "      Burnaby  Calgary  Edmonton  Regina  Saskatoon  Surrey  Vancouver  \\\n",
       "1250        0        1         0       0          0       0          0   \n",
       "3808        0        0         0       0          0       0          1   \n",
       "\n",
       "      Winnipeg  01 F  \n",
       "1250         0     0  \n",
       "3808         0     0  "
      ]
     },
     "execution_count": 56,
     "metadata": {},
     "output_type": "execute_result"
    }
   ],
   "source": [
    "df.iloc[[1250,3808],:20]"
   ]
  },
  {
   "cell_type": "markdown",
   "id": "8951242d",
   "metadata": {},
   "source": [
    "Looks like the two outliers are:\n",
    "- 1 residential house in British Columbia. This is a 6 bed, 5 bath house in Vancouver. The living area is also significantly higher than others. Considering the housing market in Vancouver, it's possible this value is correct, so I'll leave it.\n",
    "- 1 condo in Calgary. This is a 3 bed and 2 bath condo. Considering the housing market in Calgary, it's highly unlikely for this condo to be 41 million cad. So I'll remove it."
   ]
  },
  {
   "cell_type": "markdown",
   "id": "6ac596e7",
   "metadata": {},
   "source": [
    "**Drop the suspected errorneous value**"
   ]
  },
  {
   "cell_type": "code",
   "execution_count": 57,
   "id": "e06e5c6e",
   "metadata": {},
   "outputs": [],
   "source": [
    "df = df.drop(index=[1250])\n",
    "price = price.drop(index=[1250])"
   ]
  },
  {
   "cell_type": "markdown",
   "id": "11162d4d",
   "metadata": {},
   "source": [
    "**Check the Distribution**"
   ]
  },
  {
   "cell_type": "code",
   "execution_count": 58,
   "id": "b32cd8c2",
   "metadata": {},
   "outputs": [
    {
     "data": {
      "text/plain": [
       "<AxesSubplot:>"
      ]
     },
     "execution_count": 58,
     "metadata": {},
     "output_type": "execute_result"
    },
    {
     "data": {
      "image/png": "[encoded data removed]",
      "text/plain": [
       "<Figure size 432x288 with 1 Axes>"
      ]
     },
     "metadata": {
      "needs_background": "light"
     },
     "output_type": "display_data"
    }
   ],
   "source": [
    "#lets look at the distribution of the data without these two values\n",
    "price.hist(bins=50)"
   ]
  },
  {
   "cell_type": "code",
   "execution_count": 59,
   "id": "cd9f39c2",
   "metadata": {},
   "outputs": [
    {
     "data": {
      "text/plain": [
       "5.8220719436382256"
      ]
     },
     "execution_count": 59,
     "metadata": {},
     "output_type": "execute_result"
    }
   ],
   "source": [
    "#get the skew\n",
    "price.skew()"
   ]
  },
  {
   "cell_type": "markdown",
   "id": "edd4b168",
   "metadata": {},
   "source": [
    "As shown in the histogram plots & the skew calculation, the target variable is highly skewed "
   ]
  },
  {
   "cell_type": "markdown",
   "id": "53396719",
   "metadata": {},
   "source": [
    "**Transform the Target Variable to reduce the Skew**"
   ]
  },
  {
   "cell_type": "code",
   "execution_count": 60,
   "id": "c0b839a1",
   "metadata": {},
   "outputs": [
    {
     "data": {
      "text/plain": [
       "0.06591277977614242"
      ]
     },
     "execution_count": 60,
     "metadata": {},
     "output_type": "execute_result"
    },
    {
     "data": {
      "image/png": "[encoded data removed]",
      "text/plain": [
       "<Figure size 432x288 with 1 Axes>"
      ]
     },
     "metadata": {
      "needs_background": "light"
     },
     "output_type": "display_data"
    }
   ],
   "source": [
    "price=np.log(price)\n",
    "price.hist(bins=50)\n",
    "price.skew()"
   ]
  },
  {
   "cell_type": "markdown",
   "id": "4f927c8c",
   "metadata": {},
   "source": [
    "Now I have reduced the skew and the target now follows a normal distribution."
   ]
  },
  {
   "cell_type": "code",
   "execution_count": 45,
   "id": "97921d35",
   "metadata": {},
   "outputs": [
    {
     "data": {
      "text/plain": [
       "0        13.725476\n",
       "1        13.017003\n",
       "2        12.886641\n",
       "3        12.772806\n",
       "4        13.399995\n",
       "           ...    \n",
       "18668    12.074254\n",
       "18669    13.203759\n",
       "18670    13.423652\n",
       "18671    11.636911\n",
       "18672    12.898219\n",
       "Name: closePrice, Length: 18672, dtype: float64"
      ]
     },
     "execution_count": 45,
     "metadata": {},
     "output_type": "execute_result"
    }
   ],
   "source": []
  },
  {
   "cell_type": "markdown",
   "id": "c837fb7f",
   "metadata": {},
   "source": [
    "**Train/Test Split**"
   ]
  },
  {
   "cell_type": "code",
   "execution_count": 61,
   "id": "33c607f1",
   "metadata": {},
   "outputs": [],
   "source": [
    "#Split into train and test\n",
    "X_train, X_test, y_train, y_test = train_test_split(df, price, test_size = .20, random_state=42) "
   ]
  },
  {
   "cell_type": "markdown",
   "id": "da7f8b35",
   "metadata": {},
   "source": [
    "**Feature Scaling (Standard normalization) on the Numerical Columns**"
   ]
  },
  {
   "cell_type": "code",
   "execution_count": 62,
   "id": "79e47497",
   "metadata": {},
   "outputs": [],
   "source": [
    "#scale the training set (independent variables) \n",
    "scaler = StandardScaler()\n",
    "X_train = scaler.fit_transform(X_train)\n",
    "\n",
    "#scale the test set (independent variables) \n",
    "X_test = scaler.transform(X_test)"
   ]
  },
  {
   "cell_type": "markdown",
   "id": "2895ad7a",
   "metadata": {},
   "source": [
    "**Train, Test & Evaluate a LR Model**"
   ]
  },
  {
   "cell_type": "code",
   "execution_count": 85,
   "id": "febcde60",
   "metadata": {},
   "outputs": [],
   "source": [
    "lm_model = LinearRegression() # Instantiate\n",
    "lm_model.fit(X_train, y_train) \n",
    "\n",
    "#Predict and score the model on both train & test set\n",
    "price_pred_test = lm_model.predict(X_test) \n",
    "price_pred_train = lm_model.predict(X_train)"
   ]
  },
  {
   "cell_type": "markdown",
   "id": "448beb4f",
   "metadata": {},
   "source": [
    "**Transform the target variable back to the original values & Calculate error metrics**"
   ]
  },
  {
   "cell_type": "code",
   "execution_count": 88,
   "id": "5fc2e09d",
   "metadata": {},
   "outputs": [
    {
     "name": "stdout",
     "output_type": "stream",
     "text": [
      "The r-squared score for this model was 0.7350187697855528 on 14937 training values.\n",
      "The adjusted r-squared score for this model was 0.718188574873043 on 14937 training values.\n",
      "The RMSE for this model was 246231.2341102906 on 14937 training values.\n",
      "--------------------------------------------------------\n",
      "\n",
      "The r-squared score for this model was 0.5253785812428874 on 3735 values.\n",
      "The adjusted r-squared score for this model was 0.37641225276598933 on 3735 values.\n",
      "The RMSE for this model was 338790.1639814035 on 3735 values.\n"
     ]
    }
   ],
   "source": [
    "#Train Set\n",
    "r2_train = r2_score(np.exp(y_train), np.exp(price_pred_train))\n",
    "adj_r2_train = adjusted_r2(r2_train,len(price_pred_train),892)\n",
    "rmse_train = mean_squared_error(np.exp(y_train), np.exp(price_pred_train), squared =False)\n",
    "print(\"The r-squared score for this model was {} on {} training values.\".format(r2_train, len(y_train)))\n",
    "print(\"The adjusted r-squared score for this model was {} on {} training values.\".format(adj_r2_train, len(y_train)))\n",
    "print(\"The RMSE for this model was {} on {} training values.\".format(rmse_train, len(y_train)))\n",
    "\n",
    "#Test Set\n",
    "print('--------------------------------------------------------\\n')\n",
    "r2_test = r2_score(np.exp(y_test), np.exp(price_pred_test))\n",
    "adj_r2_test = adjusted_r2(r2_test,len(price_pred_test),892)\n",
    "rmse_test = mean_squared_error(np.exp(y_test), np.exp(price_pred_test), squared =False)\n",
    "print(\"The r-squared score for this model was {} on {} values.\".format(r2_test, len(y_test)))\n",
    "print(\"The adjusted r-squared score for this model was {} on {} values.\".format(adj_r2_test, len(y_test)))\n",
    "print(\"The RMSE for this model was {} on {} values.\".format(rmse_test, len(y_test)))\n"
   ]
  },
  {
   "cell_type": "markdown",
   "id": "161b8491",
   "metadata": {},
   "source": [
    "**Observation**\n",
    "- Looks like the performance of the model is better on the training set than on the test set.\n",
    "  So, the model may be overfitting.\n",
    "\n",
    "- The RMSE of this model on the test set is about 60% of the mean of all the prices and 70% of the SD.\n",
    "\n",
    "- The adjusted R2 score is 0.3764, which means that only 37.64% of the variance in the price can be explained from the features. What happened to the rest.\n",
    "\n",
    "- From the above, I can conclude that the model didn't perform well and may be overfitting on the train set."
   ]
  },
  {
   "cell_type": "markdown",
   "id": "b469735e",
   "metadata": {},
   "source": [
    "**Reducing Overfitting With Regularization**"
   ]
  },
  {
   "cell_type": "code",
   "execution_count": null,
   "id": "c36a6f71",
   "metadata": {},
   "outputs": [],
   "source": [
    "#Ridge Regression"
   ]
  },
  {
   "cell_type": "code",
   "execution_count": 122,
   "id": "fe8c5937",
   "metadata": {},
   "outputs": [],
   "source": [
    "ridge_model = Ridge(random_state=10, alpha = 100) # Tried a no of alpha values \n",
    "ridge_model.fit(X_train, y_train) \n",
    "\n",
    "#Predict and score the model on both train & test set\n",
    "price_pred_test = ridge_model.predict(X_test) \n",
    "price_pred_train = ridge_model.predict(X_train)"
   ]
  },
  {
   "cell_type": "code",
   "execution_count": 123,
   "id": "f16347a0",
   "metadata": {},
   "outputs": [
    {
     "name": "stdout",
     "output_type": "stream",
     "text": [
      "The r-squared score for this model was 0.7505338627066901 on 14937 training values.\n",
      "The adjusted r-squared score for this model was 0.7346891037729367 on 14937 training values.\n",
      "The RMSE for this model was 238913.88311250813 on 14937 training values.\n",
      "--------------------------------------------------------\n",
      "\n",
      "The r-squared score for this model was 0.6012401025462406 on 3735 values.\n",
      "The adjusted r-squared score for this model was 0.4760839348725061 on 3735 values.\n",
      "The RMSE for this model was 310536.6504756244 on 3735 values.\n"
     ]
    }
   ],
   "source": [
    "#Train Set\n",
    "r2_train = r2_score(np.exp(y_train), np.exp(price_pred_train))\n",
    "adj_r2_train = adjusted_r2(r2_train,len(price_pred_train),892)\n",
    "rmse_train = mean_squared_error(np.exp(y_train), np.exp(price_pred_train), squared =False)\n",
    "print(\"The r-squared score for this model was {} on {} training values.\".format(r2_train, len(y_train)))\n",
    "print(\"The adjusted r-squared score for this model was {} on {} training values.\".format(adj_r2_train, len(y_train)))\n",
    "print(\"The RMSE for this model was {} on {} training values.\".format(rmse_train, len(y_train)))\n",
    "\n",
    "#Test Set\n",
    "print('--------------------------------------------------------\\n')\n",
    "r2_test = r2_score(np.exp(y_test), np.exp(price_pred_test))\n",
    "adj_r2_test = adjusted_r2(r2_test,len(price_pred_test),892)\n",
    "rmse_test = mean_squared_error(np.exp(y_test), np.exp(price_pred_test), squared =False)\n",
    "print(\"The r-squared score for this model was {} on {} values.\".format(r2_test, len(y_test)))\n",
    "print(\"The adjusted r-squared score for this model was {} on {} values.\".format(adj_r2_test, len(y_test)))\n",
    "print(\"The RMSE for this model was {} on {} values.\".format(rmse_test, len(y_test)))"
   ]
  },
  {
   "cell_type": "markdown",
   "id": "130ed233",
   "metadata": {},
   "source": [
    "**Observation**\n",
    "- This ridge regression model performs better than the simple linear regression model, even though the performance on the train set is still higher.\n",
    "- I noticed the performance on the test set was improving with higher values of alpha, but it still needs to be further improved"
   ]
  },
  {
   "cell_type": "markdown",
   "id": "06634cef",
   "metadata": {},
   "source": [
    "### Conclusion\n",
    "\n",
    "I have been able to implement a model that can predict the price of the houses. However, more work needs to be done to improve the performance."
   ]
  },
  {
   "cell_type": "markdown",
   "id": "a49cd943",
   "metadata": {},
   "source": [
    "### Future Work\n",
    "- Improve the performance of the Linear Regression Model.\n",
    "- Implement other Regression Models & compare their performance"
   ]
  },
  {
   "cell_type": "code",
   "execution_count": null,
   "id": "c84cf5a4",
   "metadata": {},
   "outputs": [],
   "source": []
  }
 ],
 "metadata": {
  "kernelspec": {
   "display_name": "Python 3 (ipykernel)",
   "language": "python",
   "name": "python3"
  },
  "language_info": {
   "codemirror_mode": {
    "name": "ipython",
    "version": 3
   },
   "file_extension": ".py",
   "mimetype": "text/x-python",
   "name": "python",
   "nbconvert_exporter": "python",
   "pygments_lexer": "ipython3",
   "version": "3.9.12"
  }
 },
 "nbformat": 4,
 "nbformat_minor": 5
}
